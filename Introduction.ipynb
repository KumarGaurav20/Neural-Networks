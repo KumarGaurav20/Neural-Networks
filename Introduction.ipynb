{
  "nbformat": 4,
  "nbformat_minor": 0,
  "metadata": {
    "colab": {
      "name": "Introduction.ipynb",
      "provenance": [],
      "authorship_tag": "ABX9TyM45uH7pdDO9fr9PKTt24rm",
      "include_colab_link": true
    },
    "kernelspec": {
      "name": "python3",
      "display_name": "Python 3"
    },
    "language_info": {
      "name": "python"
    }
  },
  "cells": [
    {
      "cell_type": "markdown",
      "metadata": {
        "id": "view-in-github",
        "colab_type": "text"
      },
      "source": [
        "<a href=\"https://colab.research.google.com/github/KumarGaurav20/Neural-Networks/blob/main/Introduction.ipynb\" target=\"_parent\"><img src=\"https://colab.research.google.com/assets/colab-badge.svg\" alt=\"Open In Colab\"/></a>"
      ]
    },
    {
      "cell_type": "markdown",
      "metadata": {
        "id": "fvEyd1G46eZY"
      },
      "source": [
        "# INTRODUCTION TO NEURAL NETWORK"
      ]
    },
    {
      "cell_type": "markdown",
      "metadata": {
        "id": "_N6TR6Ly6vfu"
      },
      "source": [
        "NOTEBOOK IMPORTS"
      ]
    },
    {
      "cell_type": "code",
      "metadata": {
        "colab": {
          "base_uri": "https://localhost:8080/"
        },
        "id": "QSi7utP76iAM",
        "outputId": "a02faab2-19c7-4095-c2dc-11ee44f543b1"
      },
      "source": [
        "from google.colab import drive\n",
        "\n",
        "drive.mount('/content/gdrive')"
      ],
      "execution_count": 1,
      "outputs": [
        {
          "output_type": "stream",
          "name": "stdout",
          "text": [
            "Mounted at /content/gdrive\n"
          ]
        }
      ]
    },
    {
      "cell_type": "code",
      "metadata": {
        "id": "sMcTTuo-6sLR"
      },
      "source": [
        "import numpy as np\n",
        "#Tensorflow is a library that uses dataflow and differentiable programming to perform various tasks focused on training and inference of deep neural networks\n",
        "import tensorflow as tf     \n",
        "#Keras is library that is used for neural network\n",
        "import keras                \n",
        "\n",
        "#Image to array is used for preprocessing data while load_img is used to load the image\n",
        "from keras.preprocessing.image import img_to_array, load_img\n",
        "#Inception Resnet is a neural network of keras\n",
        "from keras.applications.inception_resnet_v2 import InceptionResNetV2\n",
        "# For displaying the images\n",
        "from IPython.core.display import display\n"
      ],
      "execution_count": 3,
      "outputs": []
    },
    {
      "cell_type": "code",
      "metadata": {
        "id": "6S_XOMYm7GSy"
      },
      "source": [
        ""
      ],
      "execution_count": null,
      "outputs": []
    }
  ]
}